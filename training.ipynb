{
 "cells": [
  {
   "cell_type": "markdown",
   "metadata": {
    "id": "Ew3-Ac2ZIQwp"
   },
   "source": [
    "# Preliminaries\n",
    "Run the next 3 cells to load the data, this might take while."
   ]
  },
  {
   "cell_type": "code",
   "execution_count": 23,
   "metadata": {
    "colab": {
     "base_uri": "https://localhost:8080/"
    },
    "id": "tUrVopLvMrvM",
    "outputId": "5e23b0c9-de1b-4a86-eba7-b5e4d5735fb8"
   },
   "outputs": [
    {
     "name": "stdout",
     "output_type": "stream",
     "text": [
      "Cloning into 'ecg-classification'...\n",
      "remote: Enumerating objects: 51, done.\u001B[K\n",
      "remote: Counting objects: 100% (51/51), done.\u001B[K\n",
      "remote: Compressing objects: 100% (42/42), done.\u001B[K\n",
      "remote: Total 20072 (delta 23), reused 28 (delta 9), pack-reused 20021\u001B[K\n",
      "Receiving objects: 100% (20072/20072), 180.39 MiB | 23.30 MiB/s, done.\n",
      "Resolving deltas: 100% (1768/1768), done.\n"
     ]
    }
   ],
   "source": [
    "# Run this cell if opening a new Colab notebook\n",
    "! git clone https://github.com/niekheinen/ecg-classification.git\n",
    "% cd ecg-classification\n",
    "! pip install wfdb"
   ]
  },
  {
   "cell_type": "code",
   "execution_count": 1,
   "metadata": {},
   "outputs": [],
   "source": [
    "%load_ext autoreload\n",
    "%autoreload 2"
   ]
  },
  {
   "cell_type": "code",
   "execution_count": 2,
   "metadata": {
    "id": "1EwZa4Q5IQwq"
   },
   "outputs": [],
   "source": [
    "import ecgc\n",
    "\n",
    "import matplotlib.pyplot as plt\n",
    "import numpy as np\n",
    "import os\n",
    "import datetime\n",
    "import itertools\n",
    "import wfdb\n",
    "from datetime import datetime\n",
    "from sklearn.preprocessing import MinMaxScaler\n",
    "from sklearn.metrics import confusion_matrix\n",
    "\n",
    "import tensorflow as tf\n",
    "from tensorflow import keras\n",
    "from tensorflow.keras.models import Model\n",
    "from tensorflow.keras.layers import Dense, GlobalAveragePooling2D\n",
    "from tensorflow.keras.models import load_model"
   ]
  },
  {
   "cell_type": "code",
   "execution_count": 3,
   "metadata": {
    "colab": {
     "base_uri": "https://localhost:8080/",
     "height": 299
    },
    "id": "mcRZ03BgKH1X",
    "outputId": "08ecf625-20fb-4cfb-f596-66d8818acb8f"
   },
   "outputs": [
    {
     "name": "stdout",
     "output_type": "stream",
     "text": [
      "Loading beats took: 26.5s\n",
      "Reshaping the signals took: 846.4s\n"
     ]
    }
   ],
   "source": [
    "data = ecgc.load_data('ecgc/mitdb/')"
   ]
  },
  {
   "cell_type": "code",
   "execution_count": 6,
   "metadata": {
    "colab": {
     "base_uri": "https://localhost:8080/",
     "height": 281
    },
    "id": "6zwsciFMKg_Y",
    "outputId": "ae885bac-3399-47b7-cdad-1f6d391ac49a"
   },
   "outputs": [
    {
     "data": {
      "image/png": "[encoded data removed]",
      "text/plain": [
       "<Figure size 432x288 with 1 Axes>"
      ]
     },
     "metadata": {
      "needs_background": "light"
     },
     "output_type": "display_data"
    }
   ],
   "source": [
    "tensor = data['tests'][0][20]\n",
    "ecgc.vizualise_tensor(tensor, data['tests'][1][20])\n"
   ]
  },
  {
   "cell_type": "markdown",
   "metadata": {
    "id": "WMp92TKyIQw4"
   },
   "source": [
    "# Train Networks"
   ]
  },
  {
   "cell_type": "code",
   "execution_count": null,
   "metadata": {
    "id": "RvnUvFV8IQw4"
   },
   "outputs": [],
   "source": [
    "net = tf.keras.applications.ResNet50V2(\n",
    "    input_shape=(36,36,3,),\n",
    "    include_top=False,\n",
    "    weights='imagenet',\n",
    "    input_tensor=None,\n",
    "    pooling='max',\n",
    ")\n",
    "\n",
    "for layer in net.layers:\n",
    "    layer.trainable = False\n",
    "\n",
    "x = net.output\n",
    "# x = GlobalAveragePooling2D()(x)\n",
    "# x = Dense(128, activation= 'relu')(x)\n",
    "# x = Dense(64, activation= 'relu')(x)\n",
    "predictions = Dense(5, activation='softmax')(x)\n",
    "model = Model(inputs=net.input, outputs=predictions)\n",
    "# model.summary()\n",
    "model.compile(optimizer=keras.optimizers.Adam(lr=0.001), loss='sparse_categorical_crossentropy', metrics=['accuracy'])"
   ]
  },
  {
   "cell_type": "code",
   "execution_count": null,
   "metadata": {
    "colab": {
     "base_uri": "https://localhost:8080/",
     "height": 204
    },
    "id": "MBZm9KLYIQw8",
    "outputId": "1fed0628-dc41-440b-dff2-b37bad759473"
   },
   "outputs": [
    {
     "name": "stdout",
     "output_type": "stream",
     "text": [
      "Epoch 1/30\n",
      "1607/1607 - 38s - loss: 4.6757 - accuracy: 0.8959\n",
      "Epoch 2/30\n",
      "1607/1607 - 37s - loss: 3.2940 - accuracy: 0.9197\n",
      "Epoch 3/30\n",
      "1607/1607 - 38s - loss: 3.7441 - accuracy: 0.9229\n",
      "Epoch 4/30\n",
      "1607/1607 - 38s - loss: 3.8146 - accuracy: 0.9290\n",
      "Epoch 5/30\n",
      "1607/1607 - 38s - loss: 3.2995 - accuracy: 0.9334\n",
      "Epoch 6/30\n"
     ]
    }
   ],
   "source": [
    "model.fit(data['train'][0], data['train'][1], epochs=30, verbose = 2)"
   ]
  },
  {
   "cell_type": "code",
   "execution_count": null,
   "metadata": {
    "id": "I1KSDYFrIQxC"
   },
   "outputs": [],
   "source": [
    "model.save(\"/content/drive/My Drive/ECG_Classifier/models/ResNet50_ba.h5\")"
   ]
  },
  {
   "cell_type": "code",
   "execution_count": null,
   "metadata": {
    "colab": {
     "base_uri": "https://localhost:8080/",
     "height": 34
    },
    "id": "Pr08QuZJOufI",
    "outputId": "9dff853c-662b-4f95-f752-319024d5f2ef"
   },
   "outputs": [
    {
     "name": "stdout",
     "output_type": "stream",
     "text": [
      "MobileNetV2_small.h5  ResNet50_ba_1tl.h5  ResNet50_small_V1.h5\n"
     ]
    }
   ],
   "source": [
    "\n",
    "! ls \"/content/drive/My Drive/ECG_Classifier/models\""
   ]
  },
  {
   "cell_type": "code",
   "execution_count": null,
   "metadata": {
    "id": "AgA7521TG3Vv"
   },
   "outputs": [],
   "source": [
    "model = load_model(\"/content/drive/My Drive/Colab Notebooks/MobileNetV2_1_88.h5\")"
   ]
  },
  {
   "cell_type": "code",
   "execution_count": null,
   "metadata": {
    "id": "7carXFqV4SKZ"
   },
   "outputs": [],
   "source": [
    "ecgc.evaluate_model(model, data['tests'][0], data['tests'][1], keras_evaluation=True)"
   ]
  }
 ],
 "metadata": {
  "accelerator": "GPU",
  "colab": {
   "collapsed_sections": [],
   "name": "training.ipynb",
   "provenance": [],
   "toc_visible": true
  },
  "kernelspec": {
   "display_name": "Python 3",
   "language": "python",
   "name": "python3"
  },
  "language_info": {
   "codemirror_mode": {
    "name": "ipython",
    "version": 3
   },
   "file_extension": ".py",
   "mimetype": "text/x-python",
   "name": "python",
   "nbconvert_exporter": "python",
   "pygments_lexer": "ipython3",
   "version": "3.8.5"
  }
 },
 "nbformat": 4,
 "nbformat_minor": 1
}